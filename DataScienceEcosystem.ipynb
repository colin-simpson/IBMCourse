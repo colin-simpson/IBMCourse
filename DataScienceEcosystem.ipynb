{
 "cells": [
  {
   "cell_type": "markdown",
   "id": "f680eb57",
   "metadata": {},
   "source": [
    "# Data Science Tools and Ecosystem"
   ]
  },
  {
   "cell_type": "markdown",
   "id": "92d82d4b",
   "metadata": {},
   "source": [
    "In this notebook, Data Science Tools and Ecosystem are summarised"
   ]
  },
  {
   "cell_type": "markdown",
   "id": "b4a7f8a6",
   "metadata": {},
   "source": [
    "Some of the popular languages that Data Scientists use are:\n",
    "1. Python\n",
    "2. R\n",
    "3. Java\n",
    "4. C/C++\n",
    "5. Julia"
   ]
  },
  {
   "cell_type": "markdown",
   "id": "c8dccdfe",
   "metadata": {},
   "source": [
    "Some of the commonly used libraries by Data Scientists include:\n",
    "1. NumPy (in Python)\n",
    "2. pandas (in Python)\n",
    "3. ggplot2 (in R)\n",
    "4. caret (in R)"
   ]
  },
  {
   "cell_type": "markdown",
   "id": "7eabf733",
   "metadata": {},
   "source": [
    "Some open source development environments used by Data Scientists include:\n",
    "\n",
    "Data Science Tools |\n",
    "-----\n",
    "Jupyter Notebooks |\n",
    "Zeppelin Notebooks |\n",
    "RStudio"
   ]
  },
  {
   "cell_type": "markdown",
   "id": "1f8b1ea0",
   "metadata": {},
   "source": [
    "Below are a few examples of evaluating arithmetic expressions in Python."
   ]
  },
  {
   "cell_type": "code",
   "execution_count": 1,
   "id": "4d40a68e",
   "metadata": {},
   "outputs": [
    {
     "data": {
      "text/plain": [
       "17"
      ]
     },
     "execution_count": 1,
     "metadata": {},
     "output_type": "execute_result"
    }
   ],
   "source": [
    "# This is a simple arithmetic expression to multiply then add integers \n",
    "(3*4)+5"
   ]
  },
  {
   "cell_type": "code",
   "execution_count": 13,
   "id": "a85c1154",
   "metadata": {},
   "outputs": [
    {
     "name": "stdout",
     "output_type": "stream",
     "text": [
      "200  minutes equals\n",
      "Hours:   3  and \n",
      "Minutes: 20\n"
     ]
    }
   ],
   "source": [
    "# This is a simple calculation to convert 200 minutes into hours and minutes\n",
    "minutes_initial = 200\n",
    "hours = minutes_initial // 60\n",
    "minutes = minutes_initial % 60\n",
    "print(minutes_initial, ' minutes equals')\n",
    "print('Hours:  ', hours, ' and', '\\nMinutes:', minutes)"
   ]
  },
  {
   "cell_type": "markdown",
   "id": "1c6b3990",
   "metadata": {},
   "source": [
    "**Objectives**\n",
    "\n",
    "The objectives that this notebook covered were:\n",
    "* List some popular languages used by Data Scientists\n",
    "* List some commonly used libraries used by Data Scientists\n",
    "* List some open source development environments used by Data Scientists\n",
    "* Perform evaluation of some simple arithmetic expressions in Python"
   ]
  },
  {
   "cell_type": "markdown",
   "id": "bd2e7fb3",
   "metadata": {},
   "source": [
    "## Author\n",
    "\n",
    "Colin Simpson"
   ]
  }
 ],
 "metadata": {
  "kernelspec": {
   "display_name": "Python 3 (ipykernel)",
   "language": "python",
   "name": "python3"
  },
  "language_info": {
   "codemirror_mode": {
    "name": "ipython",
    "version": 3
   },
   "file_extension": ".py",
   "mimetype": "text/x-python",
   "name": "python",
   "nbconvert_exporter": "python",
   "pygments_lexer": "ipython3",
   "version": "3.11.3"
  }
 },
 "nbformat": 4,
 "nbformat_minor": 5
}
