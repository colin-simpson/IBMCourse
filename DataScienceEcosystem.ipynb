{
 "cells": [
  {
   "cell_type": "markdown",
   "id": "70cdc4aa",
   "metadata": {},
   "source": [
    "# Data Science Tools and Ecosystem"
   ]
  },
  {
   "cell_type": "markdown",
   "id": "80de1174",
   "metadata": {},
   "source": [
    "In this notebook, Data Science Tools and Ecosystem are summarised"
   ]
  },
  {
   "cell_type": "markdown",
   "id": "d5cb2734",
   "metadata": {},
   "source": [
    "**Objectives**\n",
    "\n",
    "The objectives that this notebook covered were:\n",
    "* List some popular languages used by Data Scientists\n",
    "* List some commonly used libraries used by Data Scientists\n",
    "* List some open source development environments used by Data Scientists\n",
    "* Perform evaluation of some simple arithmetic expressions in Python"
   ]
  },
  {
   "cell_type": "markdown",
   "id": "4572dd3e",
   "metadata": {},
   "source": [
    "Some of the popular languages that Data Scientists use are:\n",
    "1. Python\n",
    "2. R\n",
    "3. Java\n",
    "4. C/C++\n",
    "5. Julia"
   ]
  },
  {
   "cell_type": "markdown",
   "id": "7e99da16",
   "metadata": {},
   "source": [
    "Some of the commonly used libraries by Data Scientists include:\n",
    "1. NumPy (in Python)\n",
    "2. pandas (in Python)\n",
    "3. ggplot2 (in R)\n",
    "4. caret (in R)"
   ]
  },
  {
   "cell_type": "markdown",
   "id": "a3344db5",
   "metadata": {},
   "source": [
    "Some open source development environments used by Data Scientists include:\n",
    "\n",
    "Data Science Tools |\n",
    "-----\n",
    "Jupyter Notebooks |\n",
    "Zeppelin Notebooks |\n",
    "RStudio"
   ]
  },
  {
   "cell_type": "markdown",
   "id": "94c759f9",
   "metadata": {},
   "source": [
    "### Below are a few examples of evaluating arithmetic expressions in Python"
   ]
  },
  {
   "cell_type": "code",
   "execution_count": 1,
   "id": "8f02e927",
   "metadata": {},
   "outputs": [
    {
     "data": {
      "text/plain": [
       "17"
      ]
     },
     "execution_count": 1,
     "metadata": {},
     "output_type": "execute_result"
    }
   ],
   "source": [
    "# This is a simple arithmetic expression to multiply then add integers \n",
    "(3*4)+5"
   ]
  },
  {
   "cell_type": "code",
   "execution_count": 16,
   "id": "d1fcbf8d",
   "metadata": {},
   "outputs": [
    {
     "data": {
      "text/plain": [
       "3.3333333333333335"
      ]
     },
     "execution_count": 16,
     "metadata": {},
     "output_type": "execute_result"
    }
   ],
   "source": [
    "# This will convert 200 minutes to hours by dividing by 60\n",
    "200 / 60"
   ]
  },
  {
   "cell_type": "markdown",
   "id": "4a1747d1",
   "metadata": {},
   "source": [
    "## Author\n",
    "\n",
    "Colin Simpson"
   ]
  }
 ],
 "metadata": {
  "kernelspec": {
   "display_name": "Python 3 (ipykernel)",
   "language": "python",
   "name": "python3"
  },
  "language_info": {
   "codemirror_mode": {
    "name": "ipython",
    "version": 3
   },
   "file_extension": ".py",
   "mimetype": "text/x-python",
   "name": "python",
   "nbconvert_exporter": "python",
   "pygments_lexer": "ipython3",
   "version": "3.11.3"
  }
 },
 "nbformat": 4,
 "nbformat_minor": 5
}
